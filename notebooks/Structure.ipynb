{
 "cells": [
  {
   "cell_type": "code",
   "execution_count": 1,
   "metadata": {},
   "outputs": [],
   "source": [
    "import sys\n",
    "sys.path.append('..')"
   ]
  },
  {
   "cell_type": "code",
   "execution_count": null,
   "metadata": {},
   "outputs": [
    {
     "name": "stderr",
     "output_type": "stream",
     "text": [
      "Error 1100, reqId -1: IBKR\\u4e0eTrader Workstation\\u7684\\u8fde\\u63a5\\u4e2d\\u65ad\\u3002\n",
      "Error 1100, reqId -1: IBKR\\u4e0eTrader Workstation\\u7684\\u8fde\\u63a5\\u4e2d\\u65ad\\u3002\n",
      "Error 1100, reqId -1: IBKR\\u4e0eTrader Workstation\\u7684\\u8fde\\u63a5\\u4e2d\\u65ad\\u3002\n",
      "Error 1100, reqId -1: IBKR\\u4e0eTrader Workstation\\u7684\\u8fde\\u63a5\\u4e2d\\u65ad\\u3002\n",
      "Error 1100, reqId -1: IBKR\\u4e0eTrader Workstation\\u7684\\u8fde\\u63a5\\u4e2d\\u65ad\\u3002\n",
      "Error 1100, reqId -1: IBKR\\u4e0eTrader Workstation\\u7684\\u8fde\\u63a5\\u4e2d\\u65ad\\u3002\n",
      "Error 1100, reqId -1: IBKR\\u4e0eTrader Workstation\\u7684\\u8fde\\u63a5\\u4e2d\\u65ad\\u3002\n",
      "Error 1102, reqId -1: IBKR\\u4e0eTrader Workstation\\u7684\\u8fde\\u63a5\\u6062\\u590d\\u2014\\u2014\\u6570\\u636e\\u4fdd\\u5b58\\u3002: \\u4ee5\\u4e0b\\u6570\\u636e\\u519c\\u573a\\u5df2\\u8fde\\u63a5\\uff1a usfarm.nj; hfarm; cashfarm; usfarm; euhmds; apachmds; fundfarm; ushmds; secdefhk. \\u4ee5\\u4e0b\\u6570\\u636e\\u519c\\u573a\\u672a\\u8fde\\u63a5\\uff1a usfuture.\n",
      "Error 1100, reqId -1: IBKR\\u4e0eTrader Workstation\\u7684\\u8fde\\u63a5\\u4e2d\\u65ad\\u3002\n",
      "[WinError 10054] 远程主机强迫关闭了一个现有的连接。\n"
     ]
    }
   ],
   "source": [
    "from ib_insync import *\n",
    "from BacktestApp import BacktestApp\n",
    "\n",
    "ba = BacktestApp(config_file=\"../config.yml\", clientId=17, debug=True)\n",
    "contract = Stock(\"PLTR\", 'SMART', 'USD', primaryExchange='NASDAQ')"
   ]
  },
  {
   "cell_type": "code",
   "execution_count": 3,
   "metadata": {},
   "outputs": [],
   "source": [
    "from utils import get_market_close_time\n",
    "\n",
    "today = get_market_close_time(\"20250214\")\n",
    "day = ba.get_historical_data(contract, today, '100 D', '1 day')"
   ]
  },
  {
   "cell_type": "code",
   "execution_count": null,
   "metadata": {},
   "outputs": [],
   "source": [
    "from Structure import Structure\n",
    "\n",
    "for index, row in day.iterrows():\n",
    "    tmp_s = Structure()\n",
    "    for bars in ba.custom_iterator(contract, row[\"date\"], tmp_s.prepare_data): # 预先调用这个函数，避免重复计算的时间开支\n",
    "        bars = bars.copy() # 避免SettingWithCopyWarning报错\n",
    "        structure = Structure()\n",
    "        structure.data = bars\n",
    "        structure.has_prepare_data = True\n",
    "        structure.update(contract, bars, ba.pm)"
   ]
  },
  {
   "cell_type": "code",
   "execution_count": null,
   "metadata": {},
   "outputs": [],
   "source": [
    "import pandas as pd\n",
    "\n",
    "df = pd.DataFrame(ba.pm.trade_log)\n",
    "df[\"commission\"] = 5 / 100000 * abs(df[\"amount\"] * df[\"price\"])\n",
    "df[\"commission\"].sum()"
   ]
  },
  {
   "cell_type": "code",
   "execution_count": null,
   "metadata": {},
   "outputs": [],
   "source": [
    "ba.statistic()"
   ]
  },
  {
   "cell_type": "code",
   "execution_count": null,
   "metadata": {},
   "outputs": [],
   "source": [
    "ba.plot_pnl()"
   ]
  }
 ],
 "metadata": {
  "kernelspec": {
   "display_name": "short_term_trade",
   "language": "python",
   "name": "python3"
  },
  "language_info": {
   "codemirror_mode": {
    "name": "ipython",
    "version": 3
   },
   "file_extension": ".py",
   "mimetype": "text/x-python",
   "name": "python",
   "nbconvert_exporter": "python",
   "pygments_lexer": "ipython3",
   "version": "3.11.11"
  }
 },
 "nbformat": 4,
 "nbformat_minor": 2
}
