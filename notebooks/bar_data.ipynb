{
 "cells": [
  {
   "cell_type": "markdown",
   "metadata": {},
   "source": [
    "# Bar data"
   ]
  },
  {
   "cell_type": "code",
   "execution_count": 4,
   "metadata": {},
   "outputs": [
    {
     "data": {
      "text/plain": [
       "<IB connected to 127.0.0.1:7496 clientId=1>"
      ]
     },
     "execution_count": 4,
     "metadata": {},
     "output_type": "execute_result"
    },
    {
     "name": "stderr",
     "output_type": "stream",
     "text": [
      "Error 420, reqId 5: Invalid Real-time Query:No market data permissions for ISLAND STK. Requested market data requires additional subscription for API. See link in 'Market Data Connections' dialog for more details., contract: Stock(symbol='TSLA', exchange='SMART', currency='USD')\n",
      "Error 300, reqId 5: Can't find EId with tickerId:5\n",
      "Error 366, reqId 5: No historical data query found for ticker id:5\n",
      "Error 366, reqId 5: No historical data query found for ticker id:5\n",
      "Error 366, reqId 6: No historical data query found for ticker id:6\n",
      "Error 1100, reqId -1: Connectivity between IBKR and Trader Workstation has been lost.\n",
      "Error 1100, reqId -1: Connectivity between IBKR and Trader Workstation has been lost.\n",
      "Peer closed connection.\n"
     ]
    }
   ],
   "source": [
    "from ib_insync import *\n",
    "util.startLoop()\n",
    "\n",
    "ib = IB()\n",
    "ib.connect('127.0.0.1', 7496, clientId=1)"
   ]
  },
  {
   "cell_type": "markdown",
   "metadata": {},
   "source": [
    "## Historical data"
   ]
  },
  {
   "cell_type": "markdown",
   "metadata": {},
   "source": [
    "To get the earliest date of available bar data the \"head timestamp\" can be requested:"
   ]
  },
  {
   "cell_type": "code",
   "execution_count": 5,
   "metadata": {},
   "outputs": [
    {
     "data": {
      "text/plain": [
       "datetime.datetime(2010, 6, 29, 8, 0)"
      ]
     },
     "execution_count": 5,
     "metadata": {},
     "output_type": "execute_result"
    }
   ],
   "source": [
    "contract = Stock('TSLA', 'SMART', 'USD')\n",
    "\n",
    "ib.reqHeadTimeStamp(contract, whatToShow='TRADES', useRTH=True)"
   ]
  },
  {
   "cell_type": "markdown",
   "metadata": {},
   "source": [
    "To request hourly data of the last 60 trading days:"
   ]
  },
  {
   "cell_type": "code",
   "execution_count": 19,
   "metadata": {},
   "outputs": [],
   "source": [
    "bars = ib.reqHistoricalData(\n",
    "        contract,\n",
    "        endDateTime='',\n",
    "        durationStr='1 D',\n",
    "        barSizeSetting='1 min',\n",
    "        whatToShow='TRADES',\n",
    "        useRTH=True)"
   ]
  },
  {
   "cell_type": "code",
   "execution_count": 20,
   "metadata": {},
   "outputs": [
    {
     "data": {
      "text/plain": [
       "[BarData(date=datetime.datetime(2025, 1, 2, 9, 30, tzinfo=zoneinfo.ZoneInfo(key='US/Eastern')), open=390.1, high=392.73, low=388.5, close=389.69, volume=1698273.0, average=390.412, barCount=4840),\n",
       " BarData(date=datetime.datetime(2025, 1, 2, 9, 31, tzinfo=zoneinfo.ZoneInfo(key='US/Eastern')), open=389.29, high=389.98, low=385.6, close=386.32, volume=776807.0, average=387.408, barCount=3924),\n",
       " BarData(date=datetime.datetime(2025, 1, 2, 9, 32, tzinfo=zoneinfo.ZoneInfo(key='US/Eastern')), open=386.22, high=387.78, low=385.49, close=385.65, volume=555709.0, average=386.679, barCount=2656),\n",
       " BarData(date=datetime.datetime(2025, 1, 2, 9, 33, tzinfo=zoneinfo.ZoneInfo(key='US/Eastern')), open=385.74, high=386.67, low=382.4, close=382.44, volume=902507.0, average=384.496, barCount=4124),\n",
       " BarData(date=datetime.datetime(2025, 1, 2, 9, 34, tzinfo=zoneinfo.ZoneInfo(key='US/Eastern')), open=382.49, high=383.99, low=381.7, close=381.85, volume=717034.0, average=382.787, barCount=3139),\n",
       " BarData(date=datetime.datetime(2025, 1, 2, 9, 35, tzinfo=zoneinfo.ZoneInfo(key='US/Eastern')), open=381.83, high=382.85, low=376.66, close=376.82, volume=1247606.0, average=380.132, barCount=5564),\n",
       " BarData(date=datetime.datetime(2025, 1, 2, 9, 36, tzinfo=zoneinfo.ZoneInfo(key='US/Eastern')), open=376.67, high=377.61, low=375.06, close=375.78, volume=1140593.0, average=375.992, barCount=5671),\n",
       " BarData(date=datetime.datetime(2025, 1, 2, 9, 37, tzinfo=zoneinfo.ZoneInfo(key='US/Eastern')), open=375.7, high=377.91, low=373.4, close=377.73, volume=962264.0, average=375.568, barCount=4617),\n",
       " BarData(date=datetime.datetime(2025, 1, 2, 9, 38, tzinfo=zoneinfo.ZoneInfo(key='US/Eastern')), open=377.81, high=381.11, low=377.65, close=380.98, volume=705201.0, average=379.49, barCount=3329),\n",
       " BarData(date=datetime.datetime(2025, 1, 2, 9, 39, tzinfo=zoneinfo.ZoneInfo(key='US/Eastern')), open=381.03, high=381.59, low=379.01, close=380.42, volume=538164.0, average=380.276, barCount=2408),\n",
       " BarData(date=datetime.datetime(2025, 1, 2, 9, 40, tzinfo=zoneinfo.ZoneInfo(key='US/Eastern')), open=380.48, high=383.6, low=378.89, close=383.3, volume=667417.0, average=381.573, barCount=3172),\n",
       " BarData(date=datetime.datetime(2025, 1, 2, 9, 41, tzinfo=zoneinfo.ZoneInfo(key='US/Eastern')), open=383.32, high=383.88, low=381.76, close=383.02, volume=492605.0, average=382.923, barCount=2557),\n",
       " BarData(date=datetime.datetime(2025, 1, 2, 9, 42, tzinfo=zoneinfo.ZoneInfo(key='US/Eastern')), open=383.13, high=385.25, low=382.8, close=384.47, volume=501432.0, average=383.92, barCount=2350),\n",
       " BarData(date=datetime.datetime(2025, 1, 2, 9, 43, tzinfo=zoneinfo.ZoneInfo(key='US/Eastern')), open=384.43, high=386.31, low=384.22, close=385.19, volume=701973.0, average=385.586, barCount=3010),\n",
       " BarData(date=datetime.datetime(2025, 1, 2, 9, 44, tzinfo=zoneinfo.ZoneInfo(key='US/Eastern')), open=385.0, high=385.74, low=383.33, close=384.62, volume=368965.0, average=384.421, barCount=1650),\n",
       " BarData(date=datetime.datetime(2025, 1, 2, 9, 45, tzinfo=zoneinfo.ZoneInfo(key='US/Eastern')), open=384.63, high=385.15, low=382.4, close=385.0, volume=323918.0, average=383.853, barCount=1628),\n",
       " BarData(date=datetime.datetime(2025, 1, 2, 9, 46, tzinfo=zoneinfo.ZoneInfo(key='US/Eastern')), open=385.0, high=387.12, low=383.87, close=385.46, volume=524442.0, average=385.788, barCount=2563),\n",
       " BarData(date=datetime.datetime(2025, 1, 2, 9, 47, tzinfo=zoneinfo.ZoneInfo(key='US/Eastern')), open=385.28, high=386.01, low=383.83, close=384.77, volume=328011.0, average=384.986, barCount=1526),\n",
       " BarData(date=datetime.datetime(2025, 1, 2, 9, 48, tzinfo=zoneinfo.ZoneInfo(key='US/Eastern')), open=384.63, high=387.2, low=384.08, close=386.2, volume=372213.0, average=385.878, barCount=1763),\n",
       " BarData(date=datetime.datetime(2025, 1, 2, 9, 49, tzinfo=zoneinfo.ZoneInfo(key='US/Eastern')), open=386.11, high=388.44, low=385.6, close=388.34, volume=447328.0, average=387.148, barCount=1778),\n",
       " BarData(date=datetime.datetime(2025, 1, 2, 9, 50, tzinfo=zoneinfo.ZoneInfo(key='US/Eastern')), open=388.34, high=388.87, low=386.96, close=387.49, volume=529590.0, average=388.081, barCount=2403),\n",
       " BarData(date=datetime.datetime(2025, 1, 2, 9, 51, tzinfo=zoneinfo.ZoneInfo(key='US/Eastern')), open=387.35, high=387.85, low=386.11, close=386.74, volume=292703.0, average=386.825, barCount=1391),\n",
       " BarData(date=datetime.datetime(2025, 1, 2, 9, 52, tzinfo=zoneinfo.ZoneInfo(key='US/Eastern')), open=386.64, high=388.12, low=386.48, close=387.92, volume=239015.0, average=387.186, barCount=1134),\n",
       " BarData(date=datetime.datetime(2025, 1, 2, 9, 53, tzinfo=zoneinfo.ZoneInfo(key='US/Eastern')), open=387.88, high=388.59, low=387.27, close=387.71, volume=305665.0, average=387.915, barCount=1502),\n",
       " BarData(date=datetime.datetime(2025, 1, 2, 9, 54, tzinfo=zoneinfo.ZoneInfo(key='US/Eastern')), open=387.81, high=389.6, low=387.59, close=389.34, volume=380188.0, average=388.87, barCount=1791),\n",
       " BarData(date=datetime.datetime(2025, 1, 2, 9, 55, tzinfo=zoneinfo.ZoneInfo(key='US/Eastern')), open=389.37, high=389.78, low=388.5, close=389.08, volume=343466.0, average=389.142, barCount=1713),\n",
       " BarData(date=datetime.datetime(2025, 1, 2, 9, 56, tzinfo=zoneinfo.ZoneInfo(key='US/Eastern')), open=389.04, high=389.23, low=387.62, close=388.27, volume=351566.0, average=388.359, barCount=1866),\n",
       " BarData(date=datetime.datetime(2025, 1, 2, 9, 57, tzinfo=zoneinfo.ZoneInfo(key='US/Eastern')), open=388.35, high=389.41, low=388.19, close=388.46, volume=192386.0, average=388.839, barCount=980),\n",
       " BarData(date=datetime.datetime(2025, 1, 2, 9, 58, tzinfo=zoneinfo.ZoneInfo(key='US/Eastern')), open=388.34, high=389.1, low=388.22, close=388.74, volume=179620.0, average=388.673, barCount=890),\n",
       " BarData(date=datetime.datetime(2025, 1, 2, 9, 59, tzinfo=zoneinfo.ZoneInfo(key='US/Eastern')), open=388.69, high=388.89, low=387.69, close=388.35, volume=216068.0, average=388.207, barCount=1239),\n",
       " BarData(date=datetime.datetime(2025, 1, 2, 10, 0, tzinfo=zoneinfo.ZoneInfo(key='US/Eastern')), open=388.34, high=389.05, low=386.88, close=387.88, volume=361826.0, average=387.615, barCount=1681),\n",
       " BarData(date=datetime.datetime(2025, 1, 2, 10, 1, tzinfo=zoneinfo.ZoneInfo(key='US/Eastern')), open=387.84, high=388.33, low=386.75, close=386.89, volume=219436.0, average=387.55, barCount=1020),\n",
       " BarData(date=datetime.datetime(2025, 1, 2, 10, 2, tzinfo=zoneinfo.ZoneInfo(key='US/Eastern')), open=386.89, high=387.44, low=385.8, close=386.01, volume=291842.0, average=386.541, barCount=1312),\n",
       " BarData(date=datetime.datetime(2025, 1, 2, 10, 3, tzinfo=zoneinfo.ZoneInfo(key='US/Eastern')), open=385.98, high=386.25, low=384.57, close=384.57, volume=366020.0, average=385.327, barCount=1453),\n",
       " BarData(date=datetime.datetime(2025, 1, 2, 10, 4, tzinfo=zoneinfo.ZoneInfo(key='US/Eastern')), open=384.58, high=386.88, low=384.57, close=386.58, volume=229492.0, average=385.796, barCount=1079),\n",
       " BarData(date=datetime.datetime(2025, 1, 2, 10, 5, tzinfo=zoneinfo.ZoneInfo(key='US/Eastern')), open=386.63, high=388.52, low=386.49, close=388.0, volume=291983.0, average=387.686, barCount=1313),\n",
       " BarData(date=datetime.datetime(2025, 1, 2, 10, 6, tzinfo=zoneinfo.ZoneInfo(key='US/Eastern')), open=387.98, high=390.46, low=387.98, close=389.86, volume=438099.0, average=389.58, barCount=1851),\n",
       " BarData(date=datetime.datetime(2025, 1, 2, 10, 7, tzinfo=zoneinfo.ZoneInfo(key='US/Eastern')), open=389.79, high=391.2, low=389.41, close=389.87, volume=374606.0, average=390.187, barCount=1768),\n",
       " BarData(date=datetime.datetime(2025, 1, 2, 10, 8, tzinfo=zoneinfo.ZoneInfo(key='US/Eastern')), open=389.88, high=390.65, low=388.91, close=389.27, volume=233831.0, average=389.809, barCount=1058),\n",
       " BarData(date=datetime.datetime(2025, 1, 2, 10, 9, tzinfo=zoneinfo.ZoneInfo(key='US/Eastern')), open=389.52, high=389.96, low=388.39, close=389.7, volume=185329.0, average=389.101, barCount=909),\n",
       " BarData(date=datetime.datetime(2025, 1, 2, 10, 10, tzinfo=zoneinfo.ZoneInfo(key='US/Eastern')), open=389.5, high=389.84, low=388.71, close=389.83, volume=174790.0, average=389.33, barCount=742),\n",
       " BarData(date=datetime.datetime(2025, 1, 2, 10, 11, tzinfo=zoneinfo.ZoneInfo(key='US/Eastern')), open=389.83, high=390.45, low=388.44, close=388.88, volume=249047.0, average=389.53, barCount=1161),\n",
       " BarData(date=datetime.datetime(2025, 1, 2, 10, 12, tzinfo=zoneinfo.ZoneInfo(key='US/Eastern')), open=388.95, high=389.25, low=387.61, close=388.41, volume=227815.0, average=388.386, barCount=1038),\n",
       " BarData(date=datetime.datetime(2025, 1, 2, 10, 13, tzinfo=zoneinfo.ZoneInfo(key='US/Eastern')), open=388.53, high=388.87, low=387.23, close=387.41, volume=195884.0, average=387.959, barCount=813),\n",
       " BarData(date=datetime.datetime(2025, 1, 2, 10, 14, tzinfo=zoneinfo.ZoneInfo(key='US/Eastern')), open=387.3, high=387.65, low=386.33, close=386.41, volume=229084.0, average=386.938, barCount=923),\n",
       " BarData(date=datetime.datetime(2025, 1, 2, 10, 15, tzinfo=zoneinfo.ZoneInfo(key='US/Eastern')), open=386.43, high=386.8, low=385.22, close=386.58, volume=257580.0, average=386.088, barCount=1167),\n",
       " BarData(date=datetime.datetime(2025, 1, 2, 10, 16, tzinfo=zoneinfo.ZoneInfo(key='US/Eastern')), open=386.59, high=386.98, low=385.27, close=385.73, volume=173113.0, average=386.013, barCount=804),\n",
       " BarData(date=datetime.datetime(2025, 1, 2, 10, 17, tzinfo=zoneinfo.ZoneInfo(key='US/Eastern')), open=385.71, high=385.91, low=384.2, close=384.25, volume=308323.0, average=385.031, barCount=1192),\n",
       " BarData(date=datetime.datetime(2025, 1, 2, 10, 18, tzinfo=zoneinfo.ZoneInfo(key='US/Eastern')), open=384.37, high=384.83, low=383.22, close=383.91, volume=365997.0, average=383.941, barCount=1402),\n",
       " BarData(date=datetime.datetime(2025, 1, 2, 10, 19, tzinfo=zoneinfo.ZoneInfo(key='US/Eastern')), open=383.79, high=384.0, low=382.61, close=382.77, volume=267384.0, average=383.308, barCount=1160),\n",
       " BarData(date=datetime.datetime(2025, 1, 2, 10, 20, tzinfo=zoneinfo.ZoneInfo(key='US/Eastern')), open=382.77, high=383.21, low=381.44, close=381.8, volume=402058.0, average=382.222, barCount=1662),\n",
       " BarData(date=datetime.datetime(2025, 1, 2, 10, 21, tzinfo=zoneinfo.ZoneInfo(key='US/Eastern')), open=381.77, high=382.4, low=381.32, close=381.86, volume=301241.0, average=381.805, barCount=1263),\n",
       " BarData(date=datetime.datetime(2025, 1, 2, 10, 22, tzinfo=zoneinfo.ZoneInfo(key='US/Eastern')), open=381.86, high=382.05, low=380.87, close=381.1, volume=286649.0, average=381.492, barCount=1477),\n",
       " BarData(date=datetime.datetime(2025, 1, 2, 10, 23, tzinfo=zoneinfo.ZoneInfo(key='US/Eastern')), open=381.28, high=381.28, low=380.08, close=380.45, volume=297369.0, average=380.475, barCount=1299),\n",
       " BarData(date=datetime.datetime(2025, 1, 2, 10, 24, tzinfo=zoneinfo.ZoneInfo(key='US/Eastern')), open=380.37, high=381.9, low=380.37, close=381.56, volume=294175.0, average=381.407, barCount=1367),\n",
       " BarData(date=datetime.datetime(2025, 1, 2, 10, 25, tzinfo=zoneinfo.ZoneInfo(key='US/Eastern')), open=381.5, high=382.55, low=381.29, close=382.26, volume=300827.0, average=382.043, barCount=1314),\n",
       " BarData(date=datetime.datetime(2025, 1, 2, 10, 26, tzinfo=zoneinfo.ZoneInfo(key='US/Eastern')), open=382.25, high=382.53, low=381.43, close=381.59, volume=198331.0, average=381.954, barCount=955),\n",
       " BarData(date=datetime.datetime(2025, 1, 2, 10, 27, tzinfo=zoneinfo.ZoneInfo(key='US/Eastern')), open=381.61, high=382.24, low=381.13, close=382.07, volume=163389.0, average=381.63, barCount=763),\n",
       " BarData(date=datetime.datetime(2025, 1, 2, 10, 28, tzinfo=zoneinfo.ZoneInfo(key='US/Eastern')), open=382.04, high=382.1, low=380.18, close=380.19, volume=263368.0, average=380.872, barCount=1107),\n",
       " BarData(date=datetime.datetime(2025, 1, 2, 10, 29, tzinfo=zoneinfo.ZoneInfo(key='US/Eastern')), open=380.34, high=380.81, low=380.18, close=380.34, volume=160001.0, average=380.437, barCount=704),\n",
       " BarData(date=datetime.datetime(2025, 1, 2, 10, 30, tzinfo=zoneinfo.ZoneInfo(key='US/Eastern')), open=380.27, high=380.5, low=378.29, close=378.73, volume=675086.0, average=379.663, barCount=2696),\n",
       " BarData(date=datetime.datetime(2025, 1, 2, 10, 31, tzinfo=zoneinfo.ZoneInfo(key='US/Eastern')), open=378.72, high=379.23, low=377.68, close=378.21, volume=427703.0, average=378.278, barCount=1702),\n",
       " BarData(date=datetime.datetime(2025, 1, 2, 10, 32, tzinfo=zoneinfo.ZoneInfo(key='US/Eastern')), open=378.18, high=380.24, low=378.17, close=380.15, volume=287183.0, average=379.297, barCount=1266),\n",
       " BarData(date=datetime.datetime(2025, 1, 2, 10, 33, tzinfo=zoneinfo.ZoneInfo(key='US/Eastern')), open=380.09, high=380.88, low=379.92, close=380.4, volume=265461.0, average=380.486, barCount=1065),\n",
       " BarData(date=datetime.datetime(2025, 1, 2, 10, 34, tzinfo=zoneinfo.ZoneInfo(key='US/Eastern')), open=380.38, high=381.3, low=380.0, close=380.91, volume=249699.0, average=380.723, barCount=1075),\n",
       " BarData(date=datetime.datetime(2025, 1, 2, 10, 35, tzinfo=zoneinfo.ZoneInfo(key='US/Eastern')), open=380.91, high=380.96, low=378.79, close=379.68, volume=264494.0, average=379.676, barCount=1091),\n",
       " BarData(date=datetime.datetime(2025, 1, 2, 10, 36, tzinfo=zoneinfo.ZoneInfo(key='US/Eastern')), open=379.79, high=380.0, low=379.0, close=379.99, volume=150123.0, average=379.611, barCount=638),\n",
       " BarData(date=datetime.datetime(2025, 1, 2, 10, 37, tzinfo=zoneinfo.ZoneInfo(key='US/Eastern')), open=379.91, high=381.09, low=379.9, close=380.62, volume=201656.0, average=380.469, barCount=1106),\n",
       " BarData(date=datetime.datetime(2025, 1, 2, 10, 38, tzinfo=zoneinfo.ZoneInfo(key='US/Eastern')), open=380.59, high=380.68, low=379.65, close=380.15, volume=162844.0, average=380.208, barCount=658),\n",
       " BarData(date=datetime.datetime(2025, 1, 2, 10, 39, tzinfo=zoneinfo.ZoneInfo(key='US/Eastern')), open=380.19, high=381.04, low=379.3, close=380.85, volume=181180.0, average=380.279, barCount=827),\n",
       " BarData(date=datetime.datetime(2025, 1, 2, 10, 40, tzinfo=zoneinfo.ZoneInfo(key='US/Eastern')), open=380.82, high=381.78, low=380.13, close=380.85, volume=230848.0, average=381.134, barCount=945),\n",
       " BarData(date=datetime.datetime(2025, 1, 2, 10, 41, tzinfo=zoneinfo.ZoneInfo(key='US/Eastern')), open=380.72, high=380.75, low=379.07, close=379.46, volume=187912.0, average=379.898, barCount=865),\n",
       " BarData(date=datetime.datetime(2025, 1, 2, 10, 42, tzinfo=zoneinfo.ZoneInfo(key='US/Eastern')), open=379.13, high=379.68, low=377.78, close=377.79, volume=409901.0, average=378.525, barCount=1826),\n",
       " BarData(date=datetime.datetime(2025, 1, 2, 10, 43, tzinfo=zoneinfo.ZoneInfo(key='US/Eastern')), open=377.88, high=378.7, low=377.41, close=377.73, volume=277941.0, average=377.913, barCount=1213),\n",
       " BarData(date=datetime.datetime(2025, 1, 2, 10, 44, tzinfo=zoneinfo.ZoneInfo(key='US/Eastern')), open=377.66, high=378.0, low=377.05, close=377.59, volume=189402.0, average=377.541, barCount=919),\n",
       " BarData(date=datetime.datetime(2025, 1, 2, 10, 45, tzinfo=zoneinfo.ZoneInfo(key='US/Eastern')), open=377.62, high=378.47, low=376.65, close=377.48, volume=311910.0, average=377.373, barCount=1155),\n",
       " BarData(date=datetime.datetime(2025, 1, 2, 10, 46, tzinfo=zoneinfo.ZoneInfo(key='US/Eastern')), open=377.56, high=377.89, low=376.4, close=376.69, volume=196577.0, average=376.976, barCount=803),\n",
       " BarData(date=datetime.datetime(2025, 1, 2, 10, 47, tzinfo=zoneinfo.ZoneInfo(key='US/Eastern')), open=376.69, high=377.41, low=376.25, close=376.94, volume=223737.0, average=376.842, barCount=820),\n",
       " BarData(date=datetime.datetime(2025, 1, 2, 10, 48, tzinfo=zoneinfo.ZoneInfo(key='US/Eastern')), open=376.91, high=379.49, low=376.78, close=379.43, volume=256699.0, average=378.385, barCount=997),\n",
       " BarData(date=datetime.datetime(2025, 1, 2, 10, 49, tzinfo=zoneinfo.ZoneInfo(key='US/Eastern')), open=379.5, high=380.79, low=379.32, close=380.5, volume=357419.0, average=380.115, barCount=1404),\n",
       " BarData(date=datetime.datetime(2025, 1, 2, 10, 50, tzinfo=zoneinfo.ZoneInfo(key='US/Eastern')), open=380.4, high=380.5, low=379.0, close=380.2, volume=205155.0, average=379.702, barCount=1089),\n",
       " BarData(date=datetime.datetime(2025, 1, 2, 10, 51, tzinfo=zoneinfo.ZoneInfo(key='US/Eastern')), open=380.12, high=381.3, low=380.08, close=381.06, volume=202547.0, average=380.841, barCount=965),\n",
       " BarData(date=datetime.datetime(2025, 1, 2, 10, 52, tzinfo=zoneinfo.ZoneInfo(key='US/Eastern')), open=381.07, high=381.55, low=380.62, close=380.92, volume=225886.0, average=381.124, barCount=943),\n",
       " BarData(date=datetime.datetime(2025, 1, 2, 10, 53, tzinfo=zoneinfo.ZoneInfo(key='US/Eastern')), open=380.89, high=381.25, low=379.62, close=380.8, volume=222713.0, average=380.491, barCount=967),\n",
       " BarData(date=datetime.datetime(2025, 1, 2, 10, 54, tzinfo=zoneinfo.ZoneInfo(key='US/Eastern')), open=380.8, high=381.6, low=380.51, close=381.11, volume=163024.0, average=381.145, barCount=737),\n",
       " BarData(date=datetime.datetime(2025, 1, 2, 10, 55, tzinfo=zoneinfo.ZoneInfo(key='US/Eastern')), open=381.0, high=381.19, low=380.26, close=380.4, volume=106481.0, average=380.669, barCount=499),\n",
       " BarData(date=datetime.datetime(2025, 1, 2, 10, 56, tzinfo=zoneinfo.ZoneInfo(key='US/Eastern')), open=380.42, high=381.1, low=380.05, close=381.1, volume=142478.0, average=380.661, barCount=610),\n",
       " BarData(date=datetime.datetime(2025, 1, 2, 10, 57, tzinfo=zoneinfo.ZoneInfo(key='US/Eastern')), open=381.07, high=381.3, low=380.68, close=380.89, volume=97419.0, average=381.005, barCount=506),\n",
       " BarData(date=datetime.datetime(2025, 1, 2, 10, 58, tzinfo=zoneinfo.ZoneInfo(key='US/Eastern')), open=380.88, high=381.07, low=380.27, close=380.75, volume=149329.0, average=380.764, barCount=663),\n",
       " BarData(date=datetime.datetime(2025, 1, 2, 10, 59, tzinfo=zoneinfo.ZoneInfo(key='US/Eastern')), open=380.69, high=381.01, low=380.15, close=380.8, volume=93945.0, average=380.636, barCount=440),\n",
       " BarData(date=datetime.datetime(2025, 1, 2, 11, 0, tzinfo=zoneinfo.ZoneInfo(key='US/Eastern')), open=380.88, high=381.5, low=380.4, close=381.28, volume=145441.0, average=381.037, barCount=710),\n",
       " BarData(date=datetime.datetime(2025, 1, 2, 11, 1, tzinfo=zoneinfo.ZoneInfo(key='US/Eastern')), open=381.18, high=381.48, low=380.7, close=381.47, volume=115664.0, average=381.145, barCount=623),\n",
       " BarData(date=datetime.datetime(2025, 1, 2, 11, 2, tzinfo=zoneinfo.ZoneInfo(key='US/Eastern')), open=381.41, high=382.0, low=380.04, close=380.39, volume=250202.0, average=380.975, barCount=1201),\n",
       " BarData(date=datetime.datetime(2025, 1, 2, 11, 3, tzinfo=zoneinfo.ZoneInfo(key='US/Eastern')), open=380.4, high=381.25, low=379.16, close=379.39, volume=250768.0, average=380.102, barCount=1175),\n",
       " BarData(date=datetime.datetime(2025, 1, 2, 11, 4, tzinfo=zoneinfo.ZoneInfo(key='US/Eastern')), open=379.39, high=380.0, low=378.52, close=379.23, volume=192183.0, average=379.038, barCount=837),\n",
       " BarData(date=datetime.datetime(2025, 1, 2, 11, 5, tzinfo=zoneinfo.ZoneInfo(key='US/Eastern')), open=379.05, high=380.4, low=379.05, close=380.3, volume=169722.0, average=379.834, barCount=649),\n",
       " BarData(date=datetime.datetime(2025, 1, 2, 11, 6, tzinfo=zoneinfo.ZoneInfo(key='US/Eastern')), open=380.18, high=382.6, low=379.89, close=382.3, volume=286139.0, average=381.503, barCount=1248),\n",
       " BarData(date=datetime.datetime(2025, 1, 2, 11, 7, tzinfo=zoneinfo.ZoneInfo(key='US/Eastern')), open=382.11, high=382.56, low=381.5, close=381.78, volume=167299.0, average=382.161, barCount=725),\n",
       " BarData(date=datetime.datetime(2025, 1, 2, 11, 8, tzinfo=zoneinfo.ZoneInfo(key='US/Eastern')), open=381.97, high=382.25, low=380.79, close=380.91, volume=144962.0, average=381.471, barCount=675),\n",
       " BarData(date=datetime.datetime(2025, 1, 2, 11, 9, tzinfo=zoneinfo.ZoneInfo(key='US/Eastern')), open=380.92, high=381.49, low=380.6, close=381.05, volume=122223.0, average=380.954, barCount=596),\n",
       " BarData(date=datetime.datetime(2025, 1, 2, 11, 10, tzinfo=zoneinfo.ZoneInfo(key='US/Eastern')), open=381.05, high=381.09, low=379.75, close=380.73, volume=145765.0, average=380.324, barCount=702),\n",
       " BarData(date=datetime.datetime(2025, 1, 2, 11, 11, tzinfo=zoneinfo.ZoneInfo(key='US/Eastern')), open=380.74, high=381.7, low=380.0, close=381.5, volume=129286.0, average=380.558, barCount=612),\n",
       " BarData(date=datetime.datetime(2025, 1, 2, 11, 12, tzinfo=zoneinfo.ZoneInfo(key='US/Eastern')), open=381.52, high=381.83, low=380.49, close=380.82, volume=122607.0, average=381.362, barCount=595),\n",
       " BarData(date=datetime.datetime(2025, 1, 2, 11, 13, tzinfo=zoneinfo.ZoneInfo(key='US/Eastern')), open=380.8, high=381.55, low=380.59, close=381.3, volume=85030.0, average=381.089, barCount=375),\n",
       " BarData(date=datetime.datetime(2025, 1, 2, 11, 14, tzinfo=zoneinfo.ZoneInfo(key='US/Eastern')), open=381.26, high=381.9, low=381.01, close=381.36, volume=117600.0, average=381.492, barCount=565),\n",
       " BarData(date=datetime.datetime(2025, 1, 2, 11, 15, tzinfo=zoneinfo.ZoneInfo(key='US/Eastern')), open=381.47, high=381.47, low=380.6, close=380.66, volume=97059.0, average=380.974, barCount=472),\n",
       " BarData(date=datetime.datetime(2025, 1, 2, 11, 16, tzinfo=zoneinfo.ZoneInfo(key='US/Eastern')), open=380.66, high=381.2, low=380.35, close=380.88, volume=98512.0, average=380.789, barCount=519),\n",
       " BarData(date=datetime.datetime(2025, 1, 2, 11, 17, tzinfo=zoneinfo.ZoneInfo(key='US/Eastern')), open=380.89, high=381.03, low=379.95, close=380.45, volume=125280.0, average=380.43, barCount=537),\n",
       " BarData(date=datetime.datetime(2025, 1, 2, 11, 18, tzinfo=zoneinfo.ZoneInfo(key='US/Eastern')), open=380.37, high=380.66, low=379.83, close=379.88, volume=151756.0, average=380.112, barCount=629),\n",
       " BarData(date=datetime.datetime(2025, 1, 2, 11, 19, tzinfo=zoneinfo.ZoneInfo(key='US/Eastern')), open=379.93, high=380.69, low=379.44, close=380.62, volume=161626.0, average=379.903, barCount=859),\n",
       " BarData(date=datetime.datetime(2025, 1, 2, 11, 20, tzinfo=zoneinfo.ZoneInfo(key='US/Eastern')), open=380.56, high=380.63, low=379.26, close=379.41, volume=125863.0, average=379.924, barCount=655),\n",
       " BarData(date=datetime.datetime(2025, 1, 2, 11, 21, tzinfo=zoneinfo.ZoneInfo(key='US/Eastern')), open=379.47, high=379.8, low=379.15, close=379.43, volume=117165.0, average=379.48, barCount=483),\n",
       " BarData(date=datetime.datetime(2025, 1, 2, 11, 22, tzinfo=zoneinfo.ZoneInfo(key='US/Eastern')), open=379.43, high=379.59, low=378.89, close=379.4, volume=185287.0, average=379.208, barCount=817),\n",
       " BarData(date=datetime.datetime(2025, 1, 2, 11, 23, tzinfo=zoneinfo.ZoneInfo(key='US/Eastern')), open=379.35, high=380.6, low=379.19, close=380.43, volume=174620.0, average=380.068, barCount=693),\n",
       " BarData(date=datetime.datetime(2025, 1, 2, 11, 24, tzinfo=zoneinfo.ZoneInfo(key='US/Eastern')), open=380.56, high=381.79, low=380.42, close=381.32, volume=205451.0, average=381.336, barCount=921),\n",
       " BarData(date=datetime.datetime(2025, 1, 2, 11, 25, tzinfo=zoneinfo.ZoneInfo(key='US/Eastern')), open=381.3, high=381.66, low=381.12, close=381.48, volume=135152.0, average=381.452, barCount=514),\n",
       " BarData(date=datetime.datetime(2025, 1, 2, 11, 26, tzinfo=zoneinfo.ZoneInfo(key='US/Eastern')), open=381.46, high=381.95, low=380.93, close=381.9, volume=139059.0, average=381.4, barCount=585),\n",
       " BarData(date=datetime.datetime(2025, 1, 2, 11, 27, tzinfo=zoneinfo.ZoneInfo(key='US/Eastern')), open=381.95, high=382.37, low=381.65, close=382.25, volume=188176.0, average=382.078, barCount=755),\n",
       " BarData(date=datetime.datetime(2025, 1, 2, 11, 28, tzinfo=zoneinfo.ZoneInfo(key='US/Eastern')), open=382.28, high=382.36, low=382.01, close=382.11, volume=105049.0, average=382.203, barCount=465),\n",
       " BarData(date=datetime.datetime(2025, 1, 2, 11, 29, tzinfo=zoneinfo.ZoneInfo(key='US/Eastern')), open=382.13, high=382.74, low=381.82, close=382.53, volume=144033.0, average=382.348, barCount=619),\n",
       " BarData(date=datetime.datetime(2025, 1, 2, 11, 30, tzinfo=zoneinfo.ZoneInfo(key='US/Eastern')), open=382.47, high=382.71, low=382.06, close=382.3, volume=114356.0, average=382.415, barCount=509),\n",
       " BarData(date=datetime.datetime(2025, 1, 2, 11, 31, tzinfo=zoneinfo.ZoneInfo(key='US/Eastern')), open=382.31, high=382.39, low=381.5, close=382.0, volume=121615.0, average=381.903, barCount=559),\n",
       " BarData(date=datetime.datetime(2025, 1, 2, 11, 32, tzinfo=zoneinfo.ZoneInfo(key='US/Eastern')), open=381.94, high=382.19, low=381.51, close=381.77, volume=84375.0, average=381.793, barCount=422),\n",
       " BarData(date=datetime.datetime(2025, 1, 2, 11, 33, tzinfo=zoneinfo.ZoneInfo(key='US/Eastern')), open=381.88, high=381.96, low=381.41, close=381.87, volume=87783.0, average=381.638, barCount=430),\n",
       " BarData(date=datetime.datetime(2025, 1, 2, 11, 34, tzinfo=zoneinfo.ZoneInfo(key='US/Eastern')), open=381.94, high=382.25, low=381.51, close=382.17, volume=102538.0, average=381.914, barCount=493),\n",
       " BarData(date=datetime.datetime(2025, 1, 2, 11, 35, tzinfo=zoneinfo.ZoneInfo(key='US/Eastern')), open=382.2, high=382.55, low=381.82, close=382.49, volume=89625.0, average=382.111, barCount=454),\n",
       " BarData(date=datetime.datetime(2025, 1, 2, 11, 36, tzinfo=zoneinfo.ZoneInfo(key='US/Eastern')), open=382.55, high=382.68, low=381.91, close=382.44, volume=84221.0, average=382.37, barCount=399),\n",
       " BarData(date=datetime.datetime(2025, 1, 2, 11, 37, tzinfo=zoneinfo.ZoneInfo(key='US/Eastern')), open=382.41, high=383.15, low=382.01, close=382.72, volume=171010.0, average=382.676, barCount=742),\n",
       " BarData(date=datetime.datetime(2025, 1, 2, 11, 38, tzinfo=zoneinfo.ZoneInfo(key='US/Eastern')), open=382.78, high=383.24, low=382.66, close=382.9, volume=139342.0, average=382.999, barCount=583),\n",
       " BarData(date=datetime.datetime(2025, 1, 2, 11, 39, tzinfo=zoneinfo.ZoneInfo(key='US/Eastern')), open=382.91, high=383.97, low=382.82, close=383.08, volume=186164.0, average=383.377, barCount=806),\n",
       " BarData(date=datetime.datetime(2025, 1, 2, 11, 40, tzinfo=zoneinfo.ZoneInfo(key='US/Eastern')), open=383.0, high=383.8, low=382.75, close=383.6, volume=155445.0, average=383.479, barCount=707),\n",
       " BarData(date=datetime.datetime(2025, 1, 2, 11, 41, tzinfo=zoneinfo.ZoneInfo(key='US/Eastern')), open=383.55, high=383.85, low=383.33, close=383.64, volume=130960.0, average=383.621, barCount=570),\n",
       " BarData(date=datetime.datetime(2025, 1, 2, 11, 42, tzinfo=zoneinfo.ZoneInfo(key='US/Eastern')), open=383.55, high=384.07, low=383.08, close=383.44, volume=182192.0, average=383.594, barCount=832),\n",
       " BarData(date=datetime.datetime(2025, 1, 2, 11, 43, tzinfo=zoneinfo.ZoneInfo(key='US/Eastern')), open=383.3, high=383.7, low=382.74, close=382.81, volume=159788.0, average=383.135, barCount=757),\n",
       " BarData(date=datetime.datetime(2025, 1, 2, 11, 44, tzinfo=zoneinfo.ZoneInfo(key='US/Eastern')), open=382.76, high=383.18, low=382.67, close=382.92, volume=93732.0, average=382.919, barCount=400),\n",
       " BarData(date=datetime.datetime(2025, 1, 2, 11, 45, tzinfo=zoneinfo.ZoneInfo(key='US/Eastern')), open=383.11, high=384.09, low=382.88, close=383.84, volume=144889.0, average=383.712, barCount=592),\n",
       " BarData(date=datetime.datetime(2025, 1, 2, 11, 46, tzinfo=zoneinfo.ZoneInfo(key='US/Eastern')), open=383.75, high=384.2, low=383.5, close=384.0, volume=122754.0, average=383.941, barCount=478),\n",
       " BarData(date=datetime.datetime(2025, 1, 2, 11, 47, tzinfo=zoneinfo.ZoneInfo(key='US/Eastern')), open=384.07, high=384.66, low=384.07, close=384.56, volume=185294.0, average=384.413, barCount=790),\n",
       " BarData(date=datetime.datetime(2025, 1, 2, 11, 48, tzinfo=zoneinfo.ZoneInfo(key='US/Eastern')), open=384.53, high=385.52, low=384.25, close=385.28, volume=253637.0, average=385.042, barCount=1008),\n",
       " BarData(date=datetime.datetime(2025, 1, 2, 11, 49, tzinfo=zoneinfo.ZoneInfo(key='US/Eastern')), open=385.31, high=385.57, low=385.07, close=385.3, volume=141117.0, average=385.311, barCount=635),\n",
       " BarData(date=datetime.datetime(2025, 1, 2, 11, 50, tzinfo=zoneinfo.ZoneInfo(key='US/Eastern')), open=385.29, high=386.15, low=385.03, close=385.3, volume=286908.0, average=385.593, barCount=1149),\n",
       " BarData(date=datetime.datetime(2025, 1, 2, 11, 51, tzinfo=zoneinfo.ZoneInfo(key='US/Eastern')), open=385.37, high=385.89, low=385.23, close=385.84, volume=145030.0, average=385.593, barCount=626),\n",
       " BarData(date=datetime.datetime(2025, 1, 2, 11, 52, tzinfo=zoneinfo.ZoneInfo(key='US/Eastern')), open=385.78, high=385.84, low=383.88, close=384.25, volume=252216.0, average=384.687, barCount=955),\n",
       " BarData(date=datetime.datetime(2025, 1, 2, 11, 53, tzinfo=zoneinfo.ZoneInfo(key='US/Eastern')), open=384.22, high=384.77, low=384.02, close=384.4, volume=132553.0, average=384.36, barCount=551),\n",
       " BarData(date=datetime.datetime(2025, 1, 2, 11, 54, tzinfo=zoneinfo.ZoneInfo(key='US/Eastern')), open=384.22, high=384.39, low=383.1, close=383.99, volume=171040.0, average=383.741, barCount=779),\n",
       " BarData(date=datetime.datetime(2025, 1, 2, 11, 55, tzinfo=zoneinfo.ZoneInfo(key='US/Eastern')), open=384.05, high=384.38, low=383.68, close=384.08, volume=107125.0, average=384.101, barCount=517),\n",
       " BarData(date=datetime.datetime(2025, 1, 2, 11, 56, tzinfo=zoneinfo.ZoneInfo(key='US/Eastern')), open=384.11, high=384.23, low=383.52, close=383.96, volume=82713.0, average=383.954, barCount=368),\n",
       " BarData(date=datetime.datetime(2025, 1, 2, 11, 57, tzinfo=zoneinfo.ZoneInfo(key='US/Eastern')), open=383.97, high=383.98, low=383.42, close=383.82, volume=80642.0, average=383.719, barCount=381),\n",
       " BarData(date=datetime.datetime(2025, 1, 2, 11, 58, tzinfo=zoneinfo.ZoneInfo(key='US/Eastern')), open=383.68, high=384.53, low=383.44, close=384.53, volume=96141.0, average=383.925, barCount=463),\n",
       " BarData(date=datetime.datetime(2025, 1, 2, 11, 59, tzinfo=zoneinfo.ZoneInfo(key='US/Eastern')), open=384.55, high=384.6, low=383.94, close=384.08, volume=81599.0, average=384.31, barCount=348),\n",
       " BarData(date=datetime.datetime(2025, 1, 2, 12, 0, tzinfo=zoneinfo.ZoneInfo(key='US/Eastern')), open=384.0, high=384.16, low=383.19, close=383.24, volume=109033.0, average=383.651, barCount=497),\n",
       " BarData(date=datetime.datetime(2025, 1, 2, 12, 1, tzinfo=zoneinfo.ZoneInfo(key='US/Eastern')), open=383.18, high=383.61, low=383.03, close=383.47, volume=61206.0, average=383.385, barCount=260),\n",
       " BarData(date=datetime.datetime(2025, 1, 2, 12, 2, tzinfo=zoneinfo.ZoneInfo(key='US/Eastern')), open=383.4, high=383.74, low=382.55, close=383.25, volume=129087.0, average=383.04, barCount=602),\n",
       " BarData(date=datetime.datetime(2025, 1, 2, 12, 3, tzinfo=zoneinfo.ZoneInfo(key='US/Eastern')), open=383.34, high=383.47, low=382.95, close=383.35, volume=63267.0, average=383.191, barCount=272),\n",
       " BarData(date=datetime.datetime(2025, 1, 2, 12, 4, tzinfo=zoneinfo.ZoneInfo(key='US/Eastern')), open=383.38, high=384.19, low=383.07, close=384.14, volume=87251.0, average=383.551, barCount=425),\n",
       " BarData(date=datetime.datetime(2025, 1, 2, 12, 5, tzinfo=zoneinfo.ZoneInfo(key='US/Eastern')), open=384.2, high=384.2, low=383.62, close=383.81, volume=64818.0, average=383.853, barCount=312),\n",
       " BarData(date=datetime.datetime(2025, 1, 2, 12, 6, tzinfo=zoneinfo.ZoneInfo(key='US/Eastern')), open=383.76, high=384.1, low=383.01, close=383.21, volume=79221.0, average=383.541, barCount=356),\n",
       " BarData(date=datetime.datetime(2025, 1, 2, 12, 7, tzinfo=zoneinfo.ZoneInfo(key='US/Eastern')), open=383.28, high=383.45, low=382.9, close=383.1, volume=65408.0, average=383.125, barCount=384),\n",
       " BarData(date=datetime.datetime(2025, 1, 2, 12, 8, tzinfo=zoneinfo.ZoneInfo(key='US/Eastern')), open=383.09, high=383.13, low=382.4, close=382.82, volume=93363.0, average=382.664, barCount=456),\n",
       " BarData(date=datetime.datetime(2025, 1, 2, 12, 9, tzinfo=zoneinfo.ZoneInfo(key='US/Eastern')), open=382.83, high=383.3, low=382.71, close=382.92, volume=59124.0, average=383.028, barCount=283),\n",
       " BarData(date=datetime.datetime(2025, 1, 2, 12, 10, tzinfo=zoneinfo.ZoneInfo(key='US/Eastern')), open=382.92, high=383.52, low=382.71, close=383.28, volume=90030.0, average=383.119, barCount=398),\n",
       " BarData(date=datetime.datetime(2025, 1, 2, 12, 11, tzinfo=zoneinfo.ZoneInfo(key='US/Eastern')), open=383.22, high=383.74, low=383.14, close=383.33, volume=62456.0, average=383.428, barCount=241),\n",
       " BarData(date=datetime.datetime(2025, 1, 2, 12, 12, tzinfo=zoneinfo.ZoneInfo(key='US/Eastern')), open=383.42, high=383.89, low=383.12, close=383.89, volume=61637.0, average=383.483, barCount=287),\n",
       " BarData(date=datetime.datetime(2025, 1, 2, 12, 13, tzinfo=zoneinfo.ZoneInfo(key='US/Eastern')), open=383.82, high=385.0, low=383.81, close=384.81, volume=185562.0, average=384.402, barCount=741),\n",
       " BarData(date=datetime.datetime(2025, 1, 2, 12, 14, tzinfo=zoneinfo.ZoneInfo(key='US/Eastern')), open=384.84, high=384.89, low=384.32, close=384.69, volume=71274.0, average=384.607, barCount=332),\n",
       " BarData(date=datetime.datetime(2025, 1, 2, 12, 15, tzinfo=zoneinfo.ZoneInfo(key='US/Eastern')), open=384.53, high=384.73, low=384.15, close=384.66, volume=79702.0, average=384.401, barCount=389),\n",
       " BarData(date=datetime.datetime(2025, 1, 2, 12, 16, tzinfo=zoneinfo.ZoneInfo(key='US/Eastern')), open=384.58, high=385.0, low=383.7, close=383.86, volume=111724.0, average=384.438, barCount=507),\n",
       " BarData(date=datetime.datetime(2025, 1, 2, 12, 17, tzinfo=zoneinfo.ZoneInfo(key='US/Eastern')), open=383.86, high=384.3, low=383.51, close=384.19, volume=72243.0, average=383.939, barCount=337),\n",
       " BarData(date=datetime.datetime(2025, 1, 2, 12, 18, tzinfo=zoneinfo.ZoneInfo(key='US/Eastern')), open=384.24, high=384.25, low=383.52, close=383.65, volume=47160.0, average=383.855, barCount=202),\n",
       " BarData(date=datetime.datetime(2025, 1, 2, 12, 19, tzinfo=zoneinfo.ZoneInfo(key='US/Eastern')), open=383.55, high=383.72, low=383.29, close=383.61, volume=50440.0, average=383.462, barCount=253),\n",
       " BarData(date=datetime.datetime(2025, 1, 2, 12, 20, tzinfo=zoneinfo.ZoneInfo(key='US/Eastern')), open=383.61, high=383.66, low=382.14, close=382.46, volume=176655.0, average=382.758, barCount=822),\n",
       " BarData(date=datetime.datetime(2025, 1, 2, 12, 21, tzinfo=zoneinfo.ZoneInfo(key='US/Eastern')), open=382.49, high=382.93, low=382.24, close=382.52, volume=83146.0, average=382.551, barCount=380),\n",
       " BarData(date=datetime.datetime(2025, 1, 2, 12, 22, tzinfo=zoneinfo.ZoneInfo(key='US/Eastern')), open=382.52, high=382.75, low=381.83, close=381.89, volume=140681.0, average=382.191, barCount=619),\n",
       " BarData(date=datetime.datetime(2025, 1, 2, 12, 23, tzinfo=zoneinfo.ZoneInfo(key='US/Eastern')), open=381.94, high=382.07, low=381.4, close=381.42, volume=124486.0, average=381.753, barCount=579),\n",
       " BarData(date=datetime.datetime(2025, 1, 2, 12, 24, tzinfo=zoneinfo.ZoneInfo(key='US/Eastern')), open=381.48, high=381.54, low=381.02, close=381.2, volume=128366.0, average=381.347, barCount=591),\n",
       " BarData(date=datetime.datetime(2025, 1, 2, 12, 25, tzinfo=zoneinfo.ZoneInfo(key='US/Eastern')), open=381.18, high=381.47, low=380.77, close=381.34, volume=117089.0, average=381.107, barCount=480),\n",
       " BarData(date=datetime.datetime(2025, 1, 2, 12, 26, tzinfo=zoneinfo.ZoneInfo(key='US/Eastern')), open=381.3, high=381.49, low=380.64, close=380.91, volume=106248.0, average=381.0, barCount=507),\n",
       " BarData(date=datetime.datetime(2025, 1, 2, 12, 27, tzinfo=zoneinfo.ZoneInfo(key='US/Eastern')), open=380.91, high=380.98, low=379.64, close=379.82, volume=246247.0, average=380.221, barCount=995),\n",
       " BarData(date=datetime.datetime(2025, 1, 2, 12, 28, tzinfo=zoneinfo.ZoneInfo(key='US/Eastern')), open=379.86, high=380.05, low=379.35, close=379.74, volume=164231.0, average=379.636, barCount=660),\n",
       " BarData(date=datetime.datetime(2025, 1, 2, 12, 29, tzinfo=zoneinfo.ZoneInfo(key='US/Eastern')), open=379.7, high=379.71, low=378.35, close=378.68, volume=242670.0, average=378.753, barCount=1128),\n",
       " BarData(date=datetime.datetime(2025, 1, 2, 12, 30, tzinfo=zoneinfo.ZoneInfo(key='US/Eastern')), open=378.68, high=378.75, low=378.02, close=378.05, volume=187435.0, average=378.322, barCount=854),\n",
       " BarData(date=datetime.datetime(2025, 1, 2, 12, 31, tzinfo=zoneinfo.ZoneInfo(key='US/Eastern')), open=378.15, high=378.79, low=377.76, close=378.73, volume=209257.0, average=378.295, barCount=902),\n",
       " BarData(date=datetime.datetime(2025, 1, 2, 12, 32, tzinfo=zoneinfo.ZoneInfo(key='US/Eastern')), open=378.68, high=379.06, low=378.3, close=378.38, volume=133659.0, average=378.754, barCount=640),\n",
       " BarData(date=datetime.datetime(2025, 1, 2, 12, 33, tzinfo=zoneinfo.ZoneInfo(key='US/Eastern')), open=378.45, high=378.49, low=377.52, close=377.92, volume=165108.0, average=377.984, barCount=726),\n",
       " BarData(date=datetime.datetime(2025, 1, 2, 12, 34, tzinfo=zoneinfo.ZoneInfo(key='US/Eastern')), open=377.85, high=377.93, low=377.27, close=377.89, volume=173196.0, average=377.542, barCount=843),\n",
       " BarData(date=datetime.datetime(2025, 1, 2, 12, 35, tzinfo=zoneinfo.ZoneInfo(key='US/Eastern')), open=377.9, high=378.33, low=377.48, close=378.31, volume=163975.0, average=377.977, barCount=802),\n",
       " BarData(date=datetime.datetime(2025, 1, 2, 12, 36, tzinfo=zoneinfo.ZoneInfo(key='US/Eastern')), open=378.15, high=378.26, low=377.13, close=377.17, volume=134092.0, average=377.644, barCount=630),\n",
       " BarData(date=datetime.datetime(2025, 1, 2, 12, 37, tzinfo=zoneinfo.ZoneInfo(key='US/Eastern')), open=377.27, high=377.32, low=376.36, close=376.57, volume=209044.0, average=376.789, barCount=951),\n",
       " BarData(date=datetime.datetime(2025, 1, 2, 12, 38, tzinfo=zoneinfo.ZoneInfo(key='US/Eastern')), open=376.57, high=376.74, low=375.95, close=376.73, volume=254911.0, average=376.176, barCount=988),\n",
       " BarData(date=datetime.datetime(2025, 1, 2, 12, 39, tzinfo=zoneinfo.ZoneInfo(key='US/Eastern')), open=376.72, high=376.93, low=376.02, close=376.09, volume=139201.0, average=376.454, barCount=561),\n",
       " BarData(date=datetime.datetime(2025, 1, 2, 12, 40, tzinfo=zoneinfo.ZoneInfo(key='US/Eastern')), open=376.14, high=376.25, low=375.41, close=375.49, volume=218559.0, average=375.785, barCount=912),\n",
       " BarData(date=datetime.datetime(2025, 1, 2, 12, 41, tzinfo=zoneinfo.ZoneInfo(key='US/Eastern')), open=375.54, high=376.66, low=375.44, close=376.07, volume=199395.0, average=376.218, barCount=836),\n",
       " BarData(date=datetime.datetime(2025, 1, 2, 12, 42, tzinfo=zoneinfo.ZoneInfo(key='US/Eastern')), open=376.08, high=376.23, low=375.2, close=375.78, volume=208416.0, average=375.706, barCount=971),\n",
       " BarData(date=datetime.datetime(2025, 1, 2, 12, 43, tzinfo=zoneinfo.ZoneInfo(key='US/Eastern')), open=375.71, high=376.69, low=375.64, close=376.64, volume=148044.0, average=376.203, barCount=648),\n",
       " BarData(date=datetime.datetime(2025, 1, 2, 12, 44, tzinfo=zoneinfo.ZoneInfo(key='US/Eastern')), open=376.56, high=376.7, low=375.66, close=375.84, volume=153225.0, average=376.248, barCount=772),\n",
       " BarData(date=datetime.datetime(2025, 1, 2, 12, 45, tzinfo=zoneinfo.ZoneInfo(key='US/Eastern')), open=375.96, high=376.68, low=375.62, close=376.08, volume=166441.0, average=376.256, barCount=735),\n",
       " BarData(date=datetime.datetime(2025, 1, 2, 12, 46, tzinfo=zoneinfo.ZoneInfo(key='US/Eastern')), open=376.09, high=376.7, low=375.64, close=376.5, volume=108154.0, average=376.181, barCount=566),\n",
       " BarData(date=datetime.datetime(2025, 1, 2, 12, 47, tzinfo=zoneinfo.ZoneInfo(key='US/Eastern')), open=376.29, high=376.29, low=375.51, close=375.66, volume=131926.0, average=375.821, barCount=599),\n",
       " BarData(date=datetime.datetime(2025, 1, 2, 12, 48, tzinfo=zoneinfo.ZoneInfo(key='US/Eastern')), open=375.66, high=375.79, low=374.75, close=375.07, volume=500248.0, average=375.085, barCount=1917),\n",
       " BarData(date=datetime.datetime(2025, 1, 2, 12, 49, tzinfo=zoneinfo.ZoneInfo(key='US/Eastern')), open=375.01, high=375.45, low=374.11, close=374.18, volume=190518.0, average=374.762, barCount=806),\n",
       " BarData(date=datetime.datetime(2025, 1, 2, 12, 50, tzinfo=zoneinfo.ZoneInfo(key='US/Eastern')), open=374.1, high=375.11, low=373.83, close=374.78, volume=355096.0, average=374.21, barCount=1421),\n",
       " BarData(date=datetime.datetime(2025, 1, 2, 12, 51, tzinfo=zoneinfo.ZoneInfo(key='US/Eastern')), open=374.81, high=375.5, low=374.37, close=375.46, volume=145730.0, average=374.877, barCount=635),\n",
       " BarData(date=datetime.datetime(2025, 1, 2, 12, 52, tzinfo=zoneinfo.ZoneInfo(key='US/Eastern')), open=375.58, high=376.33, low=375.45, close=375.73, volume=227413.0, average=375.923, barCount=964),\n",
       " BarData(date=datetime.datetime(2025, 1, 2, 12, 53, tzinfo=zoneinfo.ZoneInfo(key='US/Eastern')), open=375.7, high=376.28, low=375.41, close=376.09, volume=119594.0, average=375.841, barCount=540),\n",
       " BarData(date=datetime.datetime(2025, 1, 2, 12, 54, tzinfo=zoneinfo.ZoneInfo(key='US/Eastern')), open=376.15, high=376.3, low=375.64, close=375.83, volume=120069.0, average=376.016, barCount=574),\n",
       " BarData(date=datetime.datetime(2025, 1, 2, 12, 55, tzinfo=zoneinfo.ZoneInfo(key='US/Eastern')), open=375.92, high=376.43, low=375.11, close=375.21, volume=143689.0, average=375.73, barCount=671),\n",
       " BarData(date=datetime.datetime(2025, 1, 2, 12, 56, tzinfo=zoneinfo.ZoneInfo(key='US/Eastern')), open=375.27, high=376.2, low=375.03, close=376.05, volume=117558.0, average=375.586, barCount=553),\n",
       " BarData(date=datetime.datetime(2025, 1, 2, 12, 57, tzinfo=zoneinfo.ZoneInfo(key='US/Eastern')), open=376.05, high=376.15, low=375.6, close=375.78, volume=84604.0, average=375.869, barCount=416),\n",
       " BarData(date=datetime.datetime(2025, 1, 2, 12, 58, tzinfo=zoneinfo.ZoneInfo(key='US/Eastern')), open=375.76, high=376.09, low=375.5, close=375.92, volume=80607.0, average=375.847, barCount=430),\n",
       " BarData(date=datetime.datetime(2025, 1, 2, 12, 59, tzinfo=zoneinfo.ZoneInfo(key='US/Eastern')), open=376.0, high=376.85, low=375.93, close=376.72, volume=181504.0, average=376.487, barCount=816),\n",
       " BarData(date=datetime.datetime(2025, 1, 2, 13, 0, tzinfo=zoneinfo.ZoneInfo(key='US/Eastern')), open=376.68, high=376.75, low=375.71, close=375.83, volume=122433.0, average=376.223, barCount=599),\n",
       " BarData(date=datetime.datetime(2025, 1, 2, 13, 1, tzinfo=zoneinfo.ZoneInfo(key='US/Eastern')), open=375.91, high=376.15, low=375.27, close=375.44, volume=117048.0, average=375.662, barCount=613),\n",
       " BarData(date=datetime.datetime(2025, 1, 2, 13, 2, tzinfo=zoneinfo.ZoneInfo(key='US/Eastern')), open=375.52, high=376.19, low=374.81, close=374.88, volume=134952.0, average=375.348, barCount=712),\n",
       " BarData(date=datetime.datetime(2025, 1, 2, 13, 3, tzinfo=zoneinfo.ZoneInfo(key='US/Eastern')), open=375.04, high=375.45, low=374.36, close=374.55, volume=120299.0, average=374.828, barCount=598)]"
      ]
     },
     "execution_count": 20,
     "metadata": {},
     "output_type": "execute_result"
    }
   ],
   "source": [
    "bars"
   ]
  },
  {
   "cell_type": "markdown",
   "metadata": {},
   "source": [
    "Convert the list of bars to a data frame and print the first and last rows:"
   ]
  },
  {
   "cell_type": "code",
   "execution_count": 21,
   "metadata": {},
   "outputs": [
    {
     "data": {
      "text/html": [
       "<div>\n",
       "<style scoped>\n",
       "    .dataframe tbody tr th:only-of-type {\n",
       "        vertical-align: middle;\n",
       "    }\n",
       "\n",
       "    .dataframe tbody tr th {\n",
       "        vertical-align: top;\n",
       "    }\n",
       "\n",
       "    .dataframe thead th {\n",
       "        text-align: right;\n",
       "    }\n",
       "</style>\n",
       "<table border=\"1\" class=\"dataframe\">\n",
       "  <thead>\n",
       "    <tr style=\"text-align: right;\">\n",
       "      <th></th>\n",
       "      <th>date</th>\n",
       "      <th>open</th>\n",
       "      <th>high</th>\n",
       "      <th>low</th>\n",
       "      <th>close</th>\n",
       "      <th>volume</th>\n",
       "      <th>average</th>\n",
       "      <th>barCount</th>\n",
       "    </tr>\n",
       "  </thead>\n",
       "  <tbody>\n",
       "    <tr>\n",
       "      <th>0</th>\n",
       "      <td>2025-01-02 09:30:00-05:00</td>\n",
       "      <td>390.10</td>\n",
       "      <td>392.73</td>\n",
       "      <td>388.50</td>\n",
       "      <td>389.69</td>\n",
       "      <td>1698273.0</td>\n",
       "      <td>390.412</td>\n",
       "      <td>4840</td>\n",
       "    </tr>\n",
       "    <tr>\n",
       "      <th>1</th>\n",
       "      <td>2025-01-02 09:31:00-05:00</td>\n",
       "      <td>389.29</td>\n",
       "      <td>389.98</td>\n",
       "      <td>385.60</td>\n",
       "      <td>386.32</td>\n",
       "      <td>776807.0</td>\n",
       "      <td>387.408</td>\n",
       "      <td>3924</td>\n",
       "    </tr>\n",
       "    <tr>\n",
       "      <th>2</th>\n",
       "      <td>2025-01-02 09:32:00-05:00</td>\n",
       "      <td>386.22</td>\n",
       "      <td>387.78</td>\n",
       "      <td>385.49</td>\n",
       "      <td>385.65</td>\n",
       "      <td>555709.0</td>\n",
       "      <td>386.679</td>\n",
       "      <td>2656</td>\n",
       "    </tr>\n",
       "    <tr>\n",
       "      <th>3</th>\n",
       "      <td>2025-01-02 09:33:00-05:00</td>\n",
       "      <td>385.74</td>\n",
       "      <td>386.67</td>\n",
       "      <td>382.40</td>\n",
       "      <td>382.44</td>\n",
       "      <td>902507.0</td>\n",
       "      <td>384.496</td>\n",
       "      <td>4124</td>\n",
       "    </tr>\n",
       "    <tr>\n",
       "      <th>4</th>\n",
       "      <td>2025-01-02 09:34:00-05:00</td>\n",
       "      <td>382.49</td>\n",
       "      <td>383.99</td>\n",
       "      <td>381.70</td>\n",
       "      <td>381.85</td>\n",
       "      <td>717034.0</td>\n",
       "      <td>382.787</td>\n",
       "      <td>3139</td>\n",
       "    </tr>\n",
       "  </tbody>\n",
       "</table>\n",
       "</div>"
      ],
      "text/plain": [
       "                       date    open    high     low   close     volume  \\\n",
       "0 2025-01-02 09:30:00-05:00  390.10  392.73  388.50  389.69  1698273.0   \n",
       "1 2025-01-02 09:31:00-05:00  389.29  389.98  385.60  386.32   776807.0   \n",
       "2 2025-01-02 09:32:00-05:00  386.22  387.78  385.49  385.65   555709.0   \n",
       "3 2025-01-02 09:33:00-05:00  385.74  386.67  382.40  382.44   902507.0   \n",
       "4 2025-01-02 09:34:00-05:00  382.49  383.99  381.70  381.85   717034.0   \n",
       "\n",
       "   average  barCount  \n",
       "0  390.412      4840  \n",
       "1  387.408      3924  \n",
       "2  386.679      2656  \n",
       "3  384.496      4124  \n",
       "4  382.787      3139  "
      ]
     },
     "metadata": {},
     "output_type": "display_data"
    },
    {
     "data": {
      "text/html": [
       "<div>\n",
       "<style scoped>\n",
       "    .dataframe tbody tr th:only-of-type {\n",
       "        vertical-align: middle;\n",
       "    }\n",
       "\n",
       "    .dataframe tbody tr th {\n",
       "        vertical-align: top;\n",
       "    }\n",
       "\n",
       "    .dataframe thead th {\n",
       "        text-align: right;\n",
       "    }\n",
       "</style>\n",
       "<table border=\"1\" class=\"dataframe\">\n",
       "  <thead>\n",
       "    <tr style=\"text-align: right;\">\n",
       "      <th></th>\n",
       "      <th>date</th>\n",
       "      <th>open</th>\n",
       "      <th>high</th>\n",
       "      <th>low</th>\n",
       "      <th>close</th>\n",
       "      <th>volume</th>\n",
       "      <th>average</th>\n",
       "      <th>barCount</th>\n",
       "    </tr>\n",
       "  </thead>\n",
       "  <tbody>\n",
       "    <tr>\n",
       "      <th>209</th>\n",
       "      <td>2025-01-02 12:59:00-05:00</td>\n",
       "      <td>376.00</td>\n",
       "      <td>376.85</td>\n",
       "      <td>375.93</td>\n",
       "      <td>376.72</td>\n",
       "      <td>181504.0</td>\n",
       "      <td>376.487</td>\n",
       "      <td>816</td>\n",
       "    </tr>\n",
       "    <tr>\n",
       "      <th>210</th>\n",
       "      <td>2025-01-02 13:00:00-05:00</td>\n",
       "      <td>376.68</td>\n",
       "      <td>376.75</td>\n",
       "      <td>375.71</td>\n",
       "      <td>375.83</td>\n",
       "      <td>122433.0</td>\n",
       "      <td>376.223</td>\n",
       "      <td>599</td>\n",
       "    </tr>\n",
       "    <tr>\n",
       "      <th>211</th>\n",
       "      <td>2025-01-02 13:01:00-05:00</td>\n",
       "      <td>375.91</td>\n",
       "      <td>376.15</td>\n",
       "      <td>375.27</td>\n",
       "      <td>375.44</td>\n",
       "      <td>117048.0</td>\n",
       "      <td>375.662</td>\n",
       "      <td>613</td>\n",
       "    </tr>\n",
       "    <tr>\n",
       "      <th>212</th>\n",
       "      <td>2025-01-02 13:02:00-05:00</td>\n",
       "      <td>375.52</td>\n",
       "      <td>376.19</td>\n",
       "      <td>374.81</td>\n",
       "      <td>374.88</td>\n",
       "      <td>134952.0</td>\n",
       "      <td>375.348</td>\n",
       "      <td>712</td>\n",
       "    </tr>\n",
       "    <tr>\n",
       "      <th>213</th>\n",
       "      <td>2025-01-02 13:03:00-05:00</td>\n",
       "      <td>375.04</td>\n",
       "      <td>375.45</td>\n",
       "      <td>374.36</td>\n",
       "      <td>374.55</td>\n",
       "      <td>120299.0</td>\n",
       "      <td>374.828</td>\n",
       "      <td>598</td>\n",
       "    </tr>\n",
       "  </tbody>\n",
       "</table>\n",
       "</div>"
      ],
      "text/plain": [
       "                         date    open    high     low   close    volume  \\\n",
       "209 2025-01-02 12:59:00-05:00  376.00  376.85  375.93  376.72  181504.0   \n",
       "210 2025-01-02 13:00:00-05:00  376.68  376.75  375.71  375.83  122433.0   \n",
       "211 2025-01-02 13:01:00-05:00  375.91  376.15  375.27  375.44  117048.0   \n",
       "212 2025-01-02 13:02:00-05:00  375.52  376.19  374.81  374.88  134952.0   \n",
       "213 2025-01-02 13:03:00-05:00  375.04  375.45  374.36  374.55  120299.0   \n",
       "\n",
       "     average  barCount  \n",
       "209  376.487       816  \n",
       "210  376.223       599  \n",
       "211  375.662       613  \n",
       "212  375.348       712  \n",
       "213  374.828       598  "
      ]
     },
     "metadata": {},
     "output_type": "display_data"
    }
   ],
   "source": [
    "df = util.df(bars)\n",
    "\n",
    "display(df.head())\n",
    "display(df.tail())"
   ]
  },
  {
   "cell_type": "markdown",
   "metadata": {},
   "source": [
    "Instruct the notebook to draw plot graphics inline:"
   ]
  },
  {
   "cell_type": "code",
   "execution_count": 10,
   "metadata": {},
   "outputs": [],
   "source": [
    "%matplotlib inline"
   ]
  },
  {
   "cell_type": "markdown",
   "metadata": {},
   "source": [
    "Plot the close data"
   ]
  },
  {
   "cell_type": "code",
   "execution_count": 22,
   "metadata": {},
   "outputs": [
    {
     "data": {
      "image/png": "[encoded data removed]",
      "text/plain": [
       "<Figure size 640x480 with 1 Axes>"
      ]
     },
     "metadata": {},
     "output_type": "display_data"
    }
   ],
   "source": [
    "df.plot(y='close');"
   ]
  },
  {
   "cell_type": "markdown",
   "metadata": {},
   "source": [
    "There is also a utility function to plot bars as a candlestick plot. It can accept either a DataFrame or a list of bars. Here it will print the last 100 bars:"
   ]
  },
  {
   "cell_type": "code",
   "execution_count": 23,
   "metadata": {
    "scrolled": true
   },
   "outputs": [
    {
     "data": {
      "image/png": "[encoded data removed]",
      "text/plain": [
       "<Figure size 1000x600 with 1 Axes>"
      ]
     },
     "metadata": {},
     "output_type": "display_data"
    }
   ],
   "source": [
    "util.barplot(bars[-100:], title=contract.symbol);"
   ]
  },
  {
   "cell_type": "markdown",
   "metadata": {},
   "source": [
    "## Historical data with realtime updates\n",
    "\n",
    "A new feature of the API is to get live updates for historical bars. This is done by setting `endDateTime` to an empty string and the `keepUpToDate` parameter to `True`.\n",
    "\n",
    "Let's get some bars with an keepUpToDate subscription:"
   ]
  },
  {
   "cell_type": "code",
   "execution_count": 9,
   "metadata": {},
   "outputs": [],
   "source": [
    "contract = Forex('EURUSD')\n",
    "\n",
    "bars = ib.reqHistoricalData(\n",
    "        contract,\n",
    "        endDateTime='',\n",
    "        durationStr='900 S',\n",
    "        barSizeSetting='10 secs',\n",
    "        whatToShow='MIDPOINT',\n",
    "        useRTH=True,\n",
    "        formatDate=1,\n",
    "        keepUpToDate=True)"
   ]
  },
  {
   "cell_type": "markdown",
   "metadata": {},
   "source": [
    "Replot for every change of the last bar:"
   ]
  },
  {
   "cell_type": "code",
   "execution_count": 24,
   "metadata": {
    "scrolled": true
   },
   "outputs": [],
   "source": [
    "from IPython.display import display, clear_output\n",
    "import matplotlib.pyplot as plt\n",
    "\n",
    "def onBarUpdate(bars, hasNewBar):\n",
    "    plt.close()\n",
    "    plot = util.barplot(bars)\n",
    "    clear_output(wait=True)\n",
    "    display(plot)\n",
    "\n",
    "bars.updateEvent += onBarUpdate\n",
    "\n",
    "ib.sleep(10)\n",
    "ib.cancelHistoricalData(bars)"
   ]
  },
  {
   "cell_type": "markdown",
   "metadata": {},
   "source": [
    "Realtime bars\n",
    "------------------\n",
    "\n",
    "With ``reqRealTimeBars`` a subscription is started that sends a new bar every 5 seconds.\n",
    "\n",
    "First we'll set up a event handler for bar updates:"
   ]
  },
  {
   "cell_type": "code",
   "execution_count": 25,
   "metadata": {},
   "outputs": [],
   "source": [
    "def onBarUpdate(bars, hasNewBar):\n",
    "    print(bars[-1])"
   ]
  },
  {
   "cell_type": "markdown",
   "metadata": {},
   "source": [
    "Then do the real request and connect the event handler,"
   ]
  },
  {
   "cell_type": "code",
   "execution_count": 14,
   "metadata": {},
   "outputs": [],
   "source": [
    "bars = ib.reqRealTimeBars(contract, 5, 'MIDPOINT', False)\n",
    "bars.updateEvent += onBarUpdate"
   ]
  },
  {
   "cell_type": "markdown",
   "metadata": {},
   "source": [
    "let it run for half a minute and then cancel the realtime bars."
   ]
  },
  {
   "cell_type": "code",
   "execution_count": 15,
   "metadata": {},
   "outputs": [],
   "source": [
    "ib.sleep(30)\n",
    "ib.cancelRealTimeBars(bars)"
   ]
  },
  {
   "cell_type": "markdown",
   "metadata": {},
   "source": [
    "The advantage of reqRealTimeBars is that it behaves more robust when the connection to the IB server farms is interrupted. After the connection is restored, the bars from during the network outage will be backfilled and the live bars will resume.\n",
    "\n",
    "reqHistoricalData + keepUpToDate will, at the moment of writing, leave the whole API inoperable after a network interruption."
   ]
  },
  {
   "cell_type": "code",
   "execution_count": 14,
   "metadata": {},
   "outputs": [],
   "source": [
    "ib.disconnect()"
   ]
  },
  {
   "cell_type": "code",
   "execution_count": null,
   "metadata": {},
   "outputs": [],
   "source": []
  }
 ],
 "metadata": {
  "kernelspec": {
   "display_name": "short_term_trade",
   "language": "python",
   "name": "python3"
  },
  "language_info": {
   "codemirror_mode": {
    "name": "ipython",
    "version": 3
   },
   "file_extension": ".py",
   "mimetype": "text/x-python",
   "name": "python",
   "nbconvert_exporter": "python",
   "pygments_lexer": "ipython3",
   "version": "3.11.11"
  }
 },
 "nbformat": 4,
 "nbformat_minor": 4
}
